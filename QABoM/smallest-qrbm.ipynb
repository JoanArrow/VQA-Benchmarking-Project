{
 "cells": [
  {
   "cell_type": "markdown",
   "id": "09c87bd7",
   "metadata": {},
   "source": [
    "## Smallest qRBM case code to run tests"
   ]
  },
  {
   "cell_type": "code",
   "execution_count": 1,
   "id": "87b55eb4",
   "metadata": {},
   "outputs": [],
   "source": [
    "from qRBM import qRBM\n",
    "import pennylane as qml\n",
    "import numpy as np"
   ]
  },
  {
   "cell_type": "markdown",
   "id": "c3935339",
   "metadata": {},
   "source": [
    "### Generating the coin tosses"
   ]
  },
  {
   "cell_type": "code",
   "execution_count": 2,
   "id": "33516435",
   "metadata": {},
   "outputs": [
    {
     "data": {
      "text/plain": [
       "array(['T', 'T', 'H', 'T', 'H', 'H', 'H', 'T', 'T', 'T', 'T', 'T', 'H',\n",
       "       'H', 'T', 'H', 'H', 'H', 'H', 'H'], dtype='<U1')"
      ]
     },
     "execution_count": 2,
     "metadata": {},
     "output_type": "execute_result"
    }
   ],
   "source": [
    "np.random.seed(1234)\n",
    "random_coin = np.random.choice([\"H\", \"T\"], size=20, replace=True)\n",
    "random_coin"
   ]
  },
  {
   "cell_type": "code",
   "execution_count": 5,
   "id": "65bfe200",
   "metadata": {},
   "outputs": [
    {
     "data": {
      "text/plain": [
       "array([0, 0, 1, 0, 1, 1, 1, 0, 0, 0, 0, 0, 1, 1, 0, 1, 1, 1, 1, 1])"
      ]
     },
     "execution_count": 5,
     "metadata": {},
     "output_type": "execute_result"
    }
   ],
   "source": [
    "# Create a numeric version (for comparison purposes)\n",
    "np.random.seed(1234)\n",
    "random_coin_num = np.random.choice([1,0], size=20, replace=True)\n",
    "random_coin_num"
   ]
  },
  {
   "cell_type": "code",
   "execution_count": 8,
   "id": "58409a17",
   "metadata": {},
   "outputs": [
    {
     "data": {
      "text/plain": [
       "array([ 1,  1, -1,  1, -1, -1, -1,  1,  1,  1,  1,  1, -1, -1,  1, -1, -1,\n",
       "       -1, -1, -1])"
      ]
     },
     "execution_count": 8,
     "metadata": {},
     "output_type": "execute_result"
    }
   ],
   "source": [
    "# Encoding the coin toss problem for the qRBM\n",
    "encoded_data = []\n",
    "for flip in random_coin:\n",
    "    if flip == \"H\":\n",
    "        encoded_data.append(-1)\n",
    "    else:\n",
    "        encoded_data.append(1)\n",
    "        \n",
    "encoded_data = np.asarray(encoded_data)\n",
    "encoded_data"
   ]
  },
  {
   "cell_type": "markdown",
   "id": "5e6af29b",
   "metadata": {},
   "source": [
    "### Running tests"
   ]
  },
  {
   "cell_type": "code",
   "execution_count": 9,
   "id": "bd0b7690",
   "metadata": {},
   "outputs": [],
   "source": [
    "# Creating an instance of a 2-node (4 qubit) qRBM\n",
    "# @Jeff replace the device name\n",
    "my_qRBM = qRBM(num_visible=1, num_hidden=1, device_name='default.qubit', bitFlipNoise=False)"
   ]
  },
  {
   "cell_type": "code",
   "execution_count": 10,
   "id": "439491a6",
   "metadata": {},
   "outputs": [
    {
     "name": "stdout",
     "output_type": "stream",
     "text": [
      "Start time:  1720466127.7289424\n"
     ]
    },
    {
     "name": "stderr",
     "output_type": "stream",
     "text": [
      "C:\\Users\\drisc\\AppData\\Local\\Programs\\Python\\Python311\\Lib\\site-packages\\pennylane\\operation.py:1921: UserWarning: Tensor object acts on overlapping wires; in some PennyLane functions this will lead to undefined behaviour\n",
      "  warnings.warn(\n"
     ]
    },
    {
     "name": "stdout",
     "output_type": "stream",
     "text": [
      "Training done in  287  epochs\n",
      "Time taken for training:  176.69559383392334  seconds\n"
     ]
    }
   ],
   "source": [
    "# Run this to run the training loop\n",
    "my_qRBM.train(DATA=encoded_data, unencodedData=random_coin_num)"
   ]
  },
  {
   "cell_type": "markdown",
   "id": "65d36008",
   "metadata": {},
   "source": [
    "### Notes:\n",
    "\n",
    "- there should be 3 .txt files for each run, the formatting sucks but I have another script to work w/ them so just send them to me lol\n",
    "- if it doesn't time out, pls also log the number of epochs & time for training for each"
   ]
  },
  {
   "cell_type": "code",
   "execution_count": null,
   "id": "39ad2179",
   "metadata": {},
   "outputs": [],
   "source": []
  }
 ],
 "metadata": {
  "kernelspec": {
   "display_name": "Python 3 (ipykernel)",
   "language": "python",
   "name": "python3"
  },
  "language_info": {
   "codemirror_mode": {
    "name": "ipython",
    "version": 3
   },
   "file_extension": ".py",
   "mimetype": "text/x-python",
   "name": "python",
   "nbconvert_exporter": "python",
   "pygments_lexer": "ipython3",
   "version": "3.11.1"
  }
 },
 "nbformat": 4,
 "nbformat_minor": 5
}
